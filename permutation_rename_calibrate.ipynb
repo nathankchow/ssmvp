{
 "cells": [
  {
   "cell_type": "code",
   "execution_count": 2,
   "id": "direct-herald",
   "metadata": {},
   "outputs": [],
   "source": [
    "#import modules\n",
    "import cv2\n",
    "import os \n",
    "import numpy as np "
   ]
  },
  {
   "cell_type": "code",
   "execution_count": 46,
   "id": "incident-banana",
   "metadata": {},
   "outputs": [],
   "source": [
    "#functiont to show image \n",
    "def mse(imageA, imageB): \n",
    "    # the 'Mean Squared Error' between the two images is the\n",
    "    # sum of the squared difference between the two images;\n",
    "    # NOTE: the two images must have the same dimension\n",
    "    err = np.sum((imageA.astype(\"float\") - imageB.astype(\"float\")) ** 2)\n",
    "    err /= float(imageA.shape[0] * imageA.shape[1])\n",
    "    # return the Vid.mse, the lower the error, the more \"similar\"\n",
    "    # the two images are\n",
    "    return err\n",
    "\n",
    "def show(img):\n",
    "    cv2.namedWindow('test')        # Create a named window\n",
    "    cv2.moveWindow('test', 40,30)\n",
    "    cv2.imshow('test',img)\n",
    "    cv2.waitKey(0)\n",
    "    cv2.destroyAllWindows()\n",
    "\n",
    "#import any video, rotate video clockwise, select an arbitrary 3x3 square in first portrait,\n",
    "#and save into variable\n",
    "src1 =  'C:/users/natha/desktop/konosora/BYVO0984.MP4'\n",
    "vidcap = cv2.VideoCapture(src1)\n",
    "success,image = vidcap.read()\n",
    "\n",
    "tguess = 2000 #ms\n",
    "#vidcap.set(cv2.CAP_PROP_POS_MSEC, tguess)\n",
    "success,image = vidcap.read()\n",
    "#image = cv2.rotate(image,cv2.ROTATE_90_CLOCKWISE)\n",
    "x = 400\n",
    "y = 500\n",
    "h = 50 #set to 20 later \n",
    "cropped1 = image[y:y+h,x:x+h]\n",
    "cv2.namedWindow('test')        # Create a named window\n",
    "cv2.moveWindow('test', 40,30)\n",
    "\n",
    "show(cropped1)\n",
    "\n",
    "vidcap.release()\n",
    "first_box = (x,y)"
   ]
  },
  {
   "cell_type": "code",
   "execution_count": 36,
   "id": "difficult-mexico",
   "metadata": {},
   "outputs": [
    {
     "name": "stdout",
     "output_type": "stream",
     "text": [
      "[400, 662, 925, 1187, 1450, 400]\n"
     ]
    }
   ],
   "source": [
    "#find videos with koharu in every other box \n",
    "src2 ='C:/users/natha/desktop/konosora/EQEO4516.MP4'\n",
    "src3 = 'C:/users/natha/desktop/konosora/FCXP0811.MP4'\n",
    "src4 = 'C:/users/natha/desktop/konosora/BXPR7813.MP4'\n",
    "src5 ='C:/users/natha/desktop/konosora/ARVL3656.MP4'\n",
    "sources = [src1,src2,src3,src4,src5]\n",
    "\n",
    "#define function that looks for duplicate of image located at same x-coordinate\n",
    "def find_duplicate(src,template,x0=400,y=500): #template is cv2.im object \n",
    "    show(template)\n",
    "            \n",
    "    vidcap = cv2.VideoCapture(src)\n",
    "    success,image = vidcap.read()\n",
    "    \n",
    "    tguess = 2000 #ms\n",
    "    #vidcap.set(cv2.CAP_PROP_POS_MSEC, tguess)\n",
    "    success,image = vidcap.read()\n",
    "    x = x0\n",
    "    h == template.shape[0]\n",
    "    final = 9999999\n",
    "    while x+h < image.shape[1]:\n",
    "        cropped = image[y:y+h,x:x+h]\n",
    "        result = mse(cropped,template)\n",
    "        if result < final:\n",
    "            final = result\n",
    "            x_best = x\n",
    "        x+=1\n",
    "    return x_best\n",
    "\n",
    "    \n",
    "#test on second src...\n",
    "src6 = 'C:/users/natha/desktop/konosora/CVWJ4099.MP4'\n",
    "print([\n",
    "    find_duplicate(src1,cropped1),    \n",
    "    find_duplicate(src2,cropped1),\n",
    "    find_duplicate(src3,cropped1),\n",
    "    find_duplicate(src4,cropped1),\n",
    "    find_duplicate(src5,cropped1),\n",
    "    find_duplicate(src6,cropped1)\n",
    "])    \n",
    "    \n"
   ]
  },
  {
   "cell_type": "code",
   "execution_count": 48,
   "id": "mounted-parliament",
   "metadata": {},
   "outputs": [],
   "source": [
    "\n",
    "x_list = [400, 662, 925, 1187, 1450]\n",
    "show(image)\n",
    "def save(name,x,src='C:/users/natha/desktop/konosora/BYVO0984.MP4',y=500,h=50):\n",
    "    vidcap = cv2.VideoCapture(src)\n",
    "    success,image = vidcap.read()\n",
    "    cropped = image[y:y+h,x:x+h]\n",
    "    cv2.imwrite(f'data/template/{name}.png',cropped)\n",
    "save('koharu',400)\n",
    "save('arisu',662)\n",
    "save('yoshino',925)\n",
    "save('yumi',1187)\n",
    "save('yukimi',1450)\n",
    "    "
   ]
  },
  {
   "cell_type": "code",
   "execution_count": 7,
   "id": "cellular-alexandria",
   "metadata": {},
   "outputs": [
    {
     "data": {
      "text/plain": [
       "20"
      ]
     },
     "execution_count": 7,
     "metadata": {},
     "output_type": "execute_result"
    }
   ],
   "source": [
    "cropped.shape[0]"
   ]
  }
 ],
 "metadata": {
  "kernelspec": {
   "display_name": "Python 3",
   "language": "python",
   "name": "python3"
  },
  "language_info": {
   "codemirror_mode": {
    "name": "ipython",
    "version": 3
   },
   "file_extension": ".py",
   "mimetype": "text/x-python",
   "name": "python",
   "nbconvert_exporter": "python",
   "pygments_lexer": "ipython3",
   "version": "3.6.1"
  }
 },
 "nbformat": 4,
 "nbformat_minor": 5
}
